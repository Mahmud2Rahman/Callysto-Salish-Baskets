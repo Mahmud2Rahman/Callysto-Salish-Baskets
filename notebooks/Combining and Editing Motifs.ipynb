{
 "cells": [
  {
   "cell_type": "code",
   "execution_count": 1,
   "metadata": {},
   "outputs": [
    {
     "data": {
      "text/html": [
       "<script>\n",
       "code_show=true; \n",
       "function code_toggle() { if (code_show){ $('div.input').hide(); } else { $('div.input').show(); } code_show = !code_show } \n",
       "$( document ).ready(code_toggle);\n",
       "</script>\n",
       "\n",
       "Raw code hidden. To show code, click <a href=\"javascript:code_toggle()\">here</a>. <b>To begin the notebook, click Kernel then click Restart & Run All. </b> "
      ],
      "text/plain": [
       "<IPython.core.display.HTML object>"
      ]
     },
     "execution_count": 1,
     "metadata": {},
     "output_type": "execute_result"
    }
   ],
   "source": [
    "from IPython.display import HTML\n",
    "\n",
    "HTML('''<script>\n",
    "code_show=true; \n",
    "function code_toggle() { if (code_show){ $('div.input').hide(); } else { $('div.input').show(); } code_show = !code_show } \n",
    "$( document ).ready(code_toggle);\n",
    "</script>\n",
    "\n",
    "Raw code hidden. To show code, click <a href=\"javascript:code_toggle()\">here</a>. <b>To begin the notebook, click Kernel then click Restart & Run All. </b> ''')"
   ]
  },
  {
   "cell_type": "markdown",
   "metadata": {},
   "source": [
    "![Callysto.ca Banner](https://github.com/callysto/curriculum-notebooks/blob/master/callysto-notebook-banner-top.jpg?raw=true)"
   ]
  },
  {
   "cell_type": "markdown",
   "metadata": {},
   "source": [
    "<center><h1>Combining and Editing Motifs</h1></center>\n",
    "    \n",
    "#### Authors: Howell Tan, Jenifer Pham & Laura Gutierrez Funderburk, Cedric Chauve\n",
    "#### Contact: [Dr. Cedric Chauve](https://cchauve.github.io) and [Dr. Veselin Jungic](http://people.math.sfu.ca/~vjungic/)\n",
    "#### This is joint collaboration with Tla'amin Nation members: Ms. Betty Wilson, Ms. Gail Blaine, and Mr. Tyler Peters.\n",
    "#### Acknowledgements:\n",
    "We thank the Tla'amin Nation and members Ms. Betty Wilson, Ms. Gail Blaine, and Mr. Tyler Peters for sharing their knowledge and wisdom on the craft of traditional basket weaving. Without their openness this project would have not taken place. We also acknowledge that this work was conducted in unceded territory of the Musqueam , Skxwú7mesh, Tsleil-Waututh, Kwikwetlem nations. We thank PIMS and Cybera, as well as the Government of Canada for providing financial support and infrastructure.\n",
    "#### Last modified: October 26, 2018"
   ]
  },
  {
   "cell_type": "code",
   "execution_count": 2,
   "metadata": {},
   "outputs": [],
   "source": [
    "%matplotlib inline\n",
    "%run -i ./python_scripts/modules.py\n",
    "%run -i ./python_scripts/colours.py\n",
    "%run -i ./python_scripts/atomic_rectangle.py\n",
    "%run -i ./python_scripts/atomic_triangle.py\n",
    "%run -i ./python_scripts/atomic_chevron.py\n",
    "%run -i ./python_scripts/operations.py\n",
    "%run -i ./python_scripts/plotting.py\n",
    "%run -i ./python_scripts/modify_patterns.py"
   ]
  },
  {
   "cell_type": "code",
   "execution_count": 3,
   "metadata": {},
   "outputs": [
    {
     "data": {
      "text/html": [
       "<style>\n",
       ".output_wrapper button.btn.btn-default,\n",
       ".output_wrapper .ui-dialog-titlebar {\n",
       "  display: none;\n",
       "}\n",
       "</style>\n"
      ],
      "text/plain": [
       "<IPython.core.display.HTML object>"
      ]
     },
     "metadata": {},
     "output_type": "display_data"
    }
   ],
   "source": [
    "%%html\n",
    "<style>\n",
    ".output_wrapper button.btn.btn-default,\n",
    ".output_wrapper .ui-dialog-titlebar {\n",
    "  display: none;\n",
    "}\n",
    "</style>"
   ]
  },
  {
   "cell_type": "code",
   "execution_count": 4,
   "metadata": {},
   "outputs": [],
   "source": [
    "def rerun_cell(ev):\n",
    "    \n",
    "    display(Javascript('IPython.notebook.execute_cell_range(IPython.notebook.get_selected_index()+1,IPython.notebook.get_selected_index()+2)'))"
   ]
  },
  {
   "cell_type": "code",
   "execution_count": 5,
   "metadata": {},
   "outputs": [],
   "source": [
    "def generate_pattern_dir_listing():\n",
    "    global pattern_files\n",
    "    \n",
    "    pattern_files = os.listdir('./patterns/')\n",
    "    \n",
    "    if '.ipynb_checkpoints' in pattern_files:\n",
    "        pattern_files.remove('.ipynb_checkpoints')\n",
    "        \n",
    "    if 'dirList' in pattern_files:\n",
    "        pattern_files.remove('dirList')\n",
    "        \n",
    "    pattern_files_string = \", \".join(pattern_files)\n",
    "    \n",
    "    file = open(\"./patterns/dirList\", \"w\")    \n",
    "    file.write(pattern_files_string)\n",
    "    file.close()\n",
    "\n",
    "\n",
    "def save_joined_pattern(ev):\n",
    "    global pattern_files\n",
    "    \n",
    "    display(Javascript('IPython.notebook.execute_cell_range(IPython.notebook.get_selected_index(), IPython.notebook.get_selected_index()+1)'))\n",
    "\n",
    "    # List Pattern Text Files\n",
    "    pattern_files = os.listdir(\"./patterns/\")\n",
    "    \n",
    "    # Remove checkpoints from folder if exists\n",
    "    if '.ipynb_checkpoints' in pattern_files:\n",
    "        pattern_files.remove('.ipynb_checkpoints')\n",
    "    \n",
    "    # Check if file name is taken\n",
    "    if (file_name1.value in pattern_files):\n",
    "        display( Markdown(\"The file <b>\" +  file_name1.value + '</b> already exists. If you still would like to save your pattern as <b>' + file_name1.value + '</b>, delete the file and save again.') )\n",
    "    \n",
    "    # Write joined pattern into text file\n",
    "    elif (file_name1.value != ''):\n",
    "        file = open(\"./patterns/\" + file_name1.value, \"w\")\n",
    "        new_pattern = join_patterns(first, second, spacing.value)\n",
    "\n",
    "        file.write(new_pattern)\n",
    "        file.close()\n",
    "\n",
    "        display(Markdown(\"Your motif has been saved as <b>\" + file_name1.value + \"</b>.\"))\n",
    "\n",
    "## called by JS element\n",
    "def save_edited_pattern(file_name2, new_pattern):\n",
    "    global pattern_files\n",
    "    \n",
    "    # List Pattern Text Files\n",
    "    pattern_files = os.listdir(\"./patterns/\")\n",
    "\n",
    "    # Remove checkpoints from folder if exists\n",
    "    if '.ipynb_checkpoints' in pattern_files:\n",
    "        pattern_files.remove('.ipynb_checkpoints')\n",
    "    \n",
    "    # Write edited pattern into text file\n",
    "    if (file_name2 != ''):\n",
    "        file = open(\"./patterns/\" + file_name2, \"w\")\n",
    "        \n",
    "        file.write(new_pattern)\n",
    "        file.close()\n",
    "        \n",
    "    generate_pattern_dir_listing()\n",
    "    \n",
    "\n",
    "def refresh_list(ev):\n",
    "    global pattern_files\n",
    "    \n",
    "    # List Pattern Text Files\n",
    "    pattern_files = os.listdir(\"./patterns/\")\n",
    "\n",
    "    if '.ipynb_checkpoints' in pattern_files:\n",
    "        pattern_files.remove('.ipynb_checkpoints')\n",
    "        \n",
    "    #remove directory listing created for JS element\n",
    "    if 'dirList' in pattern_files:\n",
    "        pattern_files.remove('dirList')\n",
    "    \n",
    "    # Rerun cell to refresh list of files in pattern folder\n",
    "    display(Javascript('IPython.notebook.execute_cell_range(IPython.notebook.get_selected_index(), IPython.notebook.get_selected_index()+1)'))\n",
    "\n",
    "def apply_alteration(ev):\n",
    "    global create_button_clicked, join_button_clicked, edit_button_clicked\n",
    "    create_button_clicked = True\n",
    "    join_button_clicked = True\n",
    "    edit_button_clicked = True\n",
    "    \n",
    "    # Run cell below\n",
    "    display(Javascript('IPython.notebook.execute_cell_range(IPython.notebook.get_selected_index()+1, IPython.notebook.get_selected_index()+3)'))\n",
    "    "
   ]
  },
  {
   "cell_type": "code",
   "execution_count": 6,
   "metadata": {},
   "outputs": [],
   "source": [
    "global pattern_files, new_pattern, file_name, save_button\n",
    "\n",
    "# Create folder name patterns in pattern folder does not exist\n",
    "if not os.path.exists('patterns'):\n",
    "    os.makedirs('patterns')\n",
    "        \n",
    "# List Pattern Text Files\n",
    "pattern_files = os.listdir(\"./patterns/\")\n",
    "\n",
    "#remove directory listing created for JS element\n",
    "if 'dirList' in pattern_files:\n",
    "    pattern_files.remove('dirList')\n",
    "\n",
    "# Remove checkpoints from folder if exists\n",
    "if '.ipynb_checkpoints' in pattern_files:\n",
    "    pattern_files.remove('.ipynb_checkpoints')\n",
    "\n",
    "    "
   ]
  },
  {
   "cell_type": "code",
   "execution_count": 7,
   "metadata": {},
   "outputs": [],
   "source": [
    "# Define layout and style of widgets\n",
    "box_layout = Layout(display='flex', flex_flow='row', align_items='center', width='100%', justify_content = 'center')\n",
    "style = {'description_width': 'initial'}"
   ]
  },
  {
   "cell_type": "markdown",
   "metadata": {},
   "source": [
    "## Combining motifs\n",
    "   \n",
    "The motifs that we have seen up until now have been generated from a single atomic motif. A basket sometimes displays multiple motifs, combined together. To do so, our tool below allows to select two motifs created previously, set the desired spacing between them, and click the Join motifs button. \n",
    "\n",
    "Two motifs of the same height will be simply be previewed side by side. motifs of unequal heights need additional blocks added to the top and bottom of the motif with lower valued height in order for the height dimensions to match. Thus, the motif of lower valued height will be horizontally centered alongside the motif with higher valued height. \n",
    "\n",
    "Once two motifs have been joined, you can save the motif and continue to combine more motifs to your new motif if you wish. If you have saved your motif but do not see the file in the dropdown menu, try clicking on the Refresh Files button.\n"
   ]
  },
  {
   "cell_type": "code",
   "execution_count": 13,
   "metadata": {},
   "outputs": [
    {
     "data": {
      "application/javascript": [
       "IPython.notebook.execute_cell_range(IPython.notebook.get_selected_index(), IPython.notebook.get_selected_index()+1)"
      ],
      "text/plain": [
       "<IPython.core.display.Javascript object>"
      ]
     },
     "metadata": {},
     "output_type": "display_data"
    },
    {
     "data": {
      "application/vnd.jupyter.widget-view+json": {
       "model_id": "4d7cd8a5232e4d99b504fed929d05e4d",
       "version_major": 2,
       "version_minor": 0
      },
      "text/plain": [
       "Box(children=(Dropdown(description='Motif 1:', options=('Cross', 'Expanded Triangle', 'Square Rectangle', 'Dia…"
      ]
     },
     "metadata": {},
     "output_type": "display_data"
    },
    {
     "data": {
      "application/vnd.jupyter.widget-view+json": {
       "model_id": "8086a24bd09c4de499949239d2b8b418",
       "version_major": 2,
       "version_minor": 0
      },
      "text/plain": [
       "VBox(children=(IntSlider(value=0, description='Spacing Amount', max=10, style=SliderStyle(description_width='i…"
      ]
     },
     "metadata": {},
     "output_type": "display_data"
    },
    {
     "data": {
      "application/javascript": [
       "IPython.notebook.execute_cell_range(IPython.notebook.get_selected_index()+1, IPython.notebook.get_selected_index()+3)"
      ],
      "text/plain": [
       "<IPython.core.display.Javascript object>"
      ]
     },
     "metadata": {},
     "output_type": "display_data"
    }
   ],
   "source": [
    "global join_button_clicked\n",
    "join_button_clicked = False\n",
    "\n",
    "# Layout for widgets\n",
    "box_layout = Layout(display='flex', flex_flow='row', align_items='center', width='100%', justify_content = 'center')\n",
    "style = {'description_width': 'initial'}\n",
    "\n",
    "# Create dropdown menu for patterns\n",
    "first_pattern = widgets.Dropdown(options = pattern_files, description ='Motif 1:', style = style, disabled=False,)\n",
    "second_pattern = widgets.Dropdown(options = pattern_files, description ='Motif 2:', style = style, disabled=False,)\n",
    "spacing = widgets.IntSlider(value = 0, min = 0, max = 10, description = \"Spacing Amount\", style = style)\n",
    "\n",
    "# Create join and refresh button and define click events\n",
    "join_button = widgets.Button( button_style= 'info', description=\"Join Motifs\")\n",
    "join_button.on_click(apply_alteration)\n",
    "\n",
    "refresh_button = widgets.Button( button_style= 'info', description=\"Refresh Files\")\n",
    "refresh_button.on_click(refresh_list)\n",
    "\n",
    "display(Box(children = [first_pattern, second_pattern, refresh_button], layout = box_layout))\n",
    "display(VBox(children = [spacing, join_button], layout = Layout(display= 'flex', flex_flow= 'column', align_items= 'center', width='100%', justify_content = 'center')))\n",
    "\n",
    "# Create saving widgets\n",
    "save_button1 = widgets.Button(button_style= 'info',description=\"Save\")\n",
    "save_button1.on_click(save_joined_pattern)\n",
    "\n",
    "file_name1 = widgets.Text(value = '', description='File Name:', disabled=False)"
   ]
  },
  {
   "cell_type": "code",
   "execution_count": 14,
   "metadata": {},
   "outputs": [
    {
     "data": {
      "text/markdown": [
       "<center> <h3> Motif Preview </h3>"
      ],
      "text/plain": [
       "<IPython.core.display.Markdown object>"
      ]
     },
     "metadata": {},
     "output_type": "display_data"
    },
    {
     "data": {
      "image/png": "[encoded data removed]",
      "text/plain": [
       "<Figure size 432x288 with 1 Axes>"
      ]
     },
     "metadata": {
      "needs_background": "light"
     },
     "output_type": "display_data"
    }
   ],
   "source": [
    "if (join_button_clicked == True and pattern_files != []):\n",
    "    \n",
    "    display(Markdown('<center> <h3> Motif Preview </h3>'))\n",
    "    \n",
    "    # Read chosen pattern text files, join the patterns and display new pattern\n",
    "    first = open('./patterns/'+ first_pattern.value, 'r') \n",
    "    first = first.read()\n",
    "    second = open('./patterns/'+ second_pattern.value, 'r') \n",
    "    second = second.read()\n",
    "\n",
    "    new_pattern = join_patterns(first, second, spacing.value)\n",
    "    plot_motif_2D(new_pattern, ori_p)"
   ]
  },
  {
   "cell_type": "code",
   "execution_count": 15,
   "metadata": {},
   "outputs": [
    {
     "data": {
      "application/vnd.jupyter.widget-view+json": {
       "model_id": "101f553ebeba4431bb2b900b3f9f2e21",
       "version_major": 2,
       "version_minor": 0
      },
      "text/plain": [
       "Text(value='', description='File Name:')"
      ]
     },
     "metadata": {},
     "output_type": "display_data"
    },
    {
     "data": {
      "application/vnd.jupyter.widget-view+json": {
       "model_id": "5ebd78aab8cf4826a3173c839712fab7",
       "version_major": 2,
       "version_minor": 0
      },
      "text/plain": [
       "Button(button_style='info', description='Save', style=ButtonStyle())"
      ]
     },
     "metadata": {},
     "output_type": "display_data"
    }
   ],
   "source": [
    "if (join_button_clicked == True and pattern_files != []):\n",
    "\n",
    "    display(file_name1, save_button1)"
   ]
  },
  {
   "cell_type": "markdown",
   "metadata": {},
   "source": [
    "## Editing motifs & Creating your own motif\n",
    "    \n",
    "All motifs emerge from a blank canvas. If you click \"Create Blank Canvas\", you have full autonomy to create your own motif from scratch. Start by specifying the height and width of your canvas. That is, choose the number of respective rows and columns you would like your canvas to have. Note only positive integers values will be accepted. Decimal inputs will be rounded down to the nearest integer.\n",
    "\n",
    "Once you have specified your dimensions, click the \"Create Blank Canvas\" button. To create your motif, choose a color and click on a block to change its color. To erase, choose the last color and click on the block you wish to erase.\n",
    "\n",
    "However, if you want to edit an existing canvas, we can manually edit motifs by selecting a canvas you want from the \"Select a file:\" drop-down menu and clicking \"Edit Canvas\". To make changes to your motif, choose a color and click on a block in your motif display to change its color. To erase, choose the last color and click on the block you wish to erase.\n"
   ]
  },
  {
   "cell_type": "code",
   "execution_count": 11,
   "metadata": {},
   "outputs": [
    {
     "data": {
      "text/html": [
       "<!DOCTYPE html>\n",
       "<html>\n",
       "    <head>\n",
       "      <title>Example</title>\n",
       "      \n",
       "      <!-- filepath is relative to notebook note this script-->\n",
       "      <link rel=\"stylesheet\" href=\"html_scripts/stylesheets/createCanvas.css\">\n",
       "      <link rel=\"stylesheet\" href=\"https://www.w3schools.com/w3css/4/w3.css\">\n",
       "    </head>\n",
       "    <body>\n",
       "      <p>\n",
       "       <div class=\"size-options\">\n",
       "          <label for=\"height\">Height (4-50):</label>\n",
       "          <input type=\"number\" id =\"height\" min=\"4\" max=\"50\" value=\"10\">\n",
       "          <label for=\"width\">Width (4-50):</label>\n",
       "          <input type=\"number\" id=\"width\" min=\"4\" max=\"50\" value=\"10\">\n",
       "          <button onclick=\"setGrid()\" class=\"jupyter-btn\">Create Blank Canvas</button>\n",
       "        </div>\n",
       "      </p>\n",
       "      <p>\n",
       "        <div class=\"load-options\">\n",
       "          <label for=\"files\">Select a file:</label>\n",
       "          <select name=\"files\" id=\"file-list\"></select>\n",
       "          <button onclick=\"loadCanvas()\"  class=\"jupyter-btn\" id=\"load-file-btn\">Edit Canvas</button>\n",
       "          <button onclick=\"updateFileList()\" class=\" jupyter-btn\" id=\"refresh-files\">Refresh</button>\n",
       "          <div id=\"load-status\"></div>\n",
       "        </div>\n",
       "      </p>\n",
       "     <div id=\"paint-area\">\n",
       "        <div class=\"edit-motif\">\n",
       "          <div class=\"palette-selector\">\n",
       "            <button id=\"black-btn\"  class=\"colour-options\" value=\"#000000\"></button>\n",
       "            <button id=\"wheat-btn\" class=\"colour-options\" value=\"#F5DEB3\"></button>\n",
       "            <button id=\"maroon-btn\" class=\"colour-options\" value=\"#800000\"></button>\n",
       "            <button id=\"sand-btn\" class=\"colour-options\" value=\"#ffe07c\"></button>\n",
       "            <button id=\"goldenrod-btn\" class=\"colour-options\" value=\"#DAA520\"></button>\n",
       "            <button id=\"khaki-btn\" class=\"colour-options\" value=\"#F0E68C\"></button>\n",
       "            <button id=\"default-btn\" class=\"colour-options\" value=\"#d5a967\"></button>\n",
       "        </div>\n",
       "        <p>\n",
       "          <div id=\"canvas\"> </div></p>\n",
       "        <div id=\"save-area\">\n",
       "            <label class=\"w3-text-blue\"><b>File Name</b></label>\n",
       "            <input id=file-name class=\"w3-input w3-border\" type=\"text\" value=\"myMotif\">\n",
       "            <p>\n",
       "              <div id=\"save-status\">\n",
       "                <button class=\"jupyter-btn save-btn\">Save</button>\n",
       "                <div id=\"status-text\"></div>\n",
       "              </p>\n",
       "            </div>\n",
       "        </div>\n",
       "      </div>\n",
       "    </div>\n",
       "\n",
       "      <!-- filepath is relative to notebook note this script-->\n",
       "      <script src=\"html_scripts/scripts/createCanvas.js\" type=\"text/javascript\"></script>\n",
       "    </body>\n",
       "</html>\n"
      ],
      "text/plain": [
       "<IPython.core.display.HTML object>"
      ]
     },
     "execution_count": 11,
     "metadata": {},
     "output_type": "execute_result"
    }
   ],
   "source": [
    "from IPython.display import HTML\n",
    "HTML(filename=\"./html_scripts/createCanvas.html\")"
   ]
  },
  {
   "cell_type": "code",
   "execution_count": 12,
   "metadata": {},
   "outputs": [
    {
     "data": {
      "text/html": [
       "<script>\n",
       "    // AUTORUN ALL CELLS ON NOTEBOOK-LOAD!\n",
       "    require(\n",
       "        ['base/js/namespace', 'jquery'], \n",
       "        function(jupyter, $) {\n",
       "            $(jupyter.events).on(\"kernel_ready.Kernel\", function () {\n",
       "            \n",
       "                jupyter.actions.call('jupyter-notebook:save-notebook');\n",
       "                \n",
       "            });\n",
       "        }\n",
       "    );\n",
       "</script>\n"
      ],
      "text/plain": [
       "<IPython.core.display.HTML object>"
      ]
     },
     "metadata": {},
     "output_type": "display_data"
    }
   ],
   "source": [
    "%%html\n",
    "<script>\n",
    "    // AUTORUN ALL CELLS ON NOTEBOOK-LOAD!\n",
    "    require(\n",
    "        ['base/js/namespace', 'jquery'], \n",
    "        function(jupyter, $) {\n",
    "            $(jupyter.events).on(\"kernel_ready.Kernel\", function () {\n",
    "            \n",
    "                jupyter.actions.call('jupyter-notebook:save-notebook');\n",
    "                \n",
    "            });\n",
    "        }\n",
    "    );\n",
    "</script>"
   ]
  },
  {
   "cell_type": "markdown",
   "metadata": {},
   "source": [
    "[![Callysto.ca License](https://github.com/callysto/curriculum-notebooks/blob/master/callysto-notebook-banner-bottom.jpg?raw=true)](https://github.com/callysto/curriculum-notebooks/blob/master/LICENSE.md)"
   ]
  }
 ],
 "metadata": {
  "kernelspec": {
   "display_name": "Python 3",
   "language": "python",
   "name": "python3"
  },
  "language_info": {
   "codemirror_mode": {
    "name": "ipython",
    "version": 3
   },
   "file_extension": ".py",
   "mimetype": "text/x-python",
   "name": "python",
   "nbconvert_exporter": "python",
   "pygments_lexer": "ipython3",
   "version": "3.8.4"
  }
 },
 "nbformat": 4,
 "nbformat_minor": 2
}
